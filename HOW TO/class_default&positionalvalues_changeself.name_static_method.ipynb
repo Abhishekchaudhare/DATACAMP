{
 "metadata": {
  "language_info": {
   "codemirror_mode": {
    "name": "ipython",
    "version": 3
   },
   "file_extension": ".py",
   "mimetype": "text/x-python",
   "name": "python",
   "nbconvert_exporter": "python",
   "pygments_lexer": "ipython3",
   "version": "3.7.0"
  },
  "orig_nbformat": 2,
  "kernelspec": {
   "name": "python370jvsc74a57bd0184d473ad737d4fa87d376890b0d93035144fd2b273d2bfbd72515d922c22254",
   "display_name": "Python 3.7.0 64-bit ('base': conda)"
  }
 },
 "nbformat": 4,
 "nbformat_minor": 2,
 "cells": [
  {
   "cell_type": "code",
   "execution_count": 8,
   "metadata": {},
   "outputs": [],
   "source": [
    "class Student:\n",
    "    def __init__(self,a_name='Raman',a_age=26,a_sex='Male'):\n",
    "        self.name=a_name\n",
    "        self.age=a_age\n",
    "        self.sex=a_sex\n",
    "    \n",
    "    def print_letter(self):\n",
    "        print(f'My name is {self.name},{self.sex} and age is {self.age}')"
   ]
  },
  {
   "cell_type": "code",
   "execution_count": 9,
   "metadata": {},
   "outputs": [],
   "source": [
    "Abhishek=Student(a_age=30)"
   ]
  },
  {
   "cell_type": "code",
   "execution_count": 10,
   "metadata": {},
   "outputs": [
    {
     "output_type": "stream",
     "name": "stdout",
     "text": [
      "My name is Raman,Male and age is 30\n"
     ]
    }
   ],
   "source": [
    "Abhishek.print_letter()"
   ]
  },
  {
   "cell_type": "code",
   "execution_count": 11,
   "metadata": {},
   "outputs": [],
   "source": [
    "Akash=Student()"
   ]
  },
  {
   "cell_type": "code",
   "execution_count": 12,
   "metadata": {},
   "outputs": [
    {
     "output_type": "stream",
     "name": "stdout",
     "text": [
      "My name is Raman,Male and age is 26\n"
     ]
    }
   ],
   "source": [
    "Akash.print_letter()"
   ]
  },
  {
   "cell_type": "code",
   "execution_count": 14,
   "metadata": {},
   "outputs": [],
   "source": [
    "#LESSON1\n",
    "# WE can skip any argument and pass the next argument\n",
    "# WE can pass default values"
   ]
  },
  {
   "cell_type": "code",
   "execution_count": 15,
   "metadata": {},
   "outputs": [],
   "source": [
    "class Student:\n",
    "    def __init__(self,a_name,a_age,a_sex):\n",
    "        self.age=a_age\n",
    "        self.name=a_name\n",
    "\n",
    "    def print_sentence(self):\n",
    "        print(f'My name is {self.name},age is {self.age}')"
   ]
  },
  {
   "cell_type": "code",
   "execution_count": 17,
   "metadata": {},
   "outputs": [
    {
     "output_type": "error",
     "ename": "TypeError",
     "evalue": "__init__() missing 3 required positional arguments: 'a_name', 'a_age', and 'a_sex'",
     "traceback": [
      "\u001b[1;31m---------------------------------------------------------------------------\u001b[0m",
      "\u001b[1;31mTypeError\u001b[0m                                 Traceback (most recent call last)",
      "\u001b[1;32m<ipython-input-17-885638e5a999>\u001b[0m in \u001b[0;36m<module>\u001b[1;34m()\u001b[0m\n\u001b[1;32m----> 1\u001b[1;33m \u001b[0mAbhishek\u001b[0m\u001b[1;33m=\u001b[0m\u001b[0mStudent\u001b[0m\u001b[1;33m(\u001b[0m\u001b[1;33m)\u001b[0m\u001b[1;33m\u001b[0m\u001b[0m\n\u001b[0m",
      "\u001b[1;31mTypeError\u001b[0m: __init__() missing 3 required positional arguments: 'a_name', 'a_age', and 'a_sex'"
     ]
    }
   ],
   "source": [
    "Abhishek=Student()"
   ]
  },
  {
   "cell_type": "code",
   "execution_count": 19,
   "metadata": {},
   "outputs": [],
   "source": [
    "#LESSON 2\n",
    "#We will see error if we will not pass positional arguments\n",
    "#Alternative way is to pass default values"
   ]
  },
  {
   "cell_type": "code",
   "execution_count": 25,
   "metadata": {},
   "outputs": [],
   "source": [
    "class Student2:\n",
    "    salary=20000\n",
    "\n",
    "    def __init__(self,a_name,a_age,a_sex):\n",
    "        self.age=a_age\n",
    "        self.name=a_name\n",
    "\n",
    "    def print_sentence(self):\n",
    "        print(self.name)\n",
    "        print(self.salary)\n",
    "        self.name='Abhishek'\n",
    "        self.salary=2\n",
    "        print(f'My name is {self.name},age is {self.age},{self.salary}')"
   ]
  },
  {
   "cell_type": "code",
   "execution_count": 26,
   "metadata": {},
   "outputs": [],
   "source": [
    "Test1=Student2('Ramesh',26,'Male')"
   ]
  },
  {
   "cell_type": "code",
   "execution_count": 27,
   "metadata": {},
   "outputs": [
    {
     "output_type": "execute_result",
     "data": {
      "text/plain": [
       "{'age': 26, 'name': 'Ramesh'}"
      ]
     },
     "metadata": {},
     "execution_count": 27
    }
   ],
   "source": [
    "Test1.__dict__"
   ]
  },
  {
   "cell_type": "code",
   "execution_count": 28,
   "metadata": {},
   "outputs": [
    {
     "output_type": "execute_result",
     "data": {
      "text/plain": [
       "mappingproxy({'__module__': '__main__',\n",
       "              'salary': 20000,\n",
       "              '__init__': <function __main__.Student2.__init__(self, a_name, a_age, a_sex)>,\n",
       "              'print_sentence': <function __main__.Student2.print_sentence(self)>,\n",
       "              '__dict__': <attribute '__dict__' of 'Student2' objects>,\n",
       "              '__weakref__': <attribute '__weakref__' of 'Student2' objects>,\n",
       "              '__doc__': None})"
      ]
     },
     "metadata": {},
     "execution_count": 28
    }
   ],
   "source": [
    "Student2.__dict__"
   ]
  },
  {
   "cell_type": "code",
   "execution_count": 29,
   "metadata": {},
   "outputs": [
    {
     "output_type": "stream",
     "name": "stdout",
     "text": [
      "Ramesh\n20000\nMy name is Abhishek,age is 26,2\n"
     ]
    }
   ],
   "source": [
    "Test1.print_sentence()"
   ]
  },
  {
   "cell_type": "code",
   "execution_count": 30,
   "metadata": {},
   "outputs": [
    {
     "output_type": "execute_result",
     "data": {
      "text/plain": [
       "mappingproxy({'__module__': '__main__',\n",
       "              'salary': 20000,\n",
       "              '__init__': <function __main__.Student2.__init__(self, a_name, a_age, a_sex)>,\n",
       "              'print_sentence': <function __main__.Student2.print_sentence(self)>,\n",
       "              '__dict__': <attribute '__dict__' of 'Student2' objects>,\n",
       "              '__weakref__': <attribute '__weakref__' of 'Student2' objects>,\n",
       "              '__doc__': None})"
      ]
     },
     "metadata": {},
     "execution_count": 30
    }
   ],
   "source": [
    "Student2.__dict__"
   ]
  },
  {
   "cell_type": "code",
   "execution_count": 31,
   "metadata": {},
   "outputs": [
    {
     "output_type": "execute_result",
     "data": {
      "text/plain": [
       "{'age': 26, 'name': 'Abhishek', 'salary': 2}"
      ]
     },
     "metadata": {},
     "execution_count": 31
    }
   ],
   "source": [
    "Test1.__dict__"
   ]
  },
  {
   "cell_type": "code",
   "execution_count": null,
   "metadata": {},
   "outputs": [],
   "source": [
    "#class salary will not change,only the instance salary will change\n"
   ]
  },
  {
   "cell_type": "code",
   "execution_count": 29,
   "metadata": {},
   "outputs": [],
   "source": [
    "Ramesh=Student2('Ramesh',26,'Male')"
   ]
  },
  {
   "cell_type": "code",
   "execution_count": 30,
   "metadata": {},
   "outputs": [
    {
     "output_type": "execute_result",
     "data": {
      "text/plain": [
       "{'age': 26, 'name': 'Ramesh'}"
      ]
     },
     "metadata": {},
     "execution_count": 30
    }
   ],
   "source": [
    "Ramesh.__dict__"
   ]
  },
  {
   "cell_type": "code",
   "execution_count": 31,
   "metadata": {},
   "outputs": [
    {
     "output_type": "execute_result",
     "data": {
      "text/plain": [
       "mappingproxy({'__module__': '__main__',\n",
       "              '__init__': <function __main__.Student2.__init__(self, a_name, a_age, a_sex)>,\n",
       "              'print_sentence': <function __main__.Student2.print_sentence(self)>,\n",
       "              '__dict__': <attribute '__dict__' of 'Student2' objects>,\n",
       "              '__weakref__': <attribute '__weakref__' of 'Student2' objects>,\n",
       "              '__doc__': None})"
      ]
     },
     "metadata": {},
     "execution_count": 31
    }
   ],
   "source": [
    "Student2.__dict__"
   ]
  },
  {
   "cell_type": "code",
   "execution_count": 32,
   "metadata": {},
   "outputs": [
    {
     "output_type": "stream",
     "name": "stdout",
     "text": [
      "Ramesh\nMy name is Abhishek,age is 26\n"
     ]
    }
   ],
   "source": [
    "Ramesh.print_sentence()"
   ]
  },
  {
   "cell_type": "code",
   "execution_count": 33,
   "metadata": {},
   "outputs": [
    {
     "output_type": "execute_result",
     "data": {
      "text/plain": [
       "{'age': 26, 'name': 'Abhishek'}"
      ]
     },
     "metadata": {},
     "execution_count": 33
    }
   ],
   "source": [
    "Ramesh.__dict__"
   ]
  },
  {
   "cell_type": "code",
   "execution_count": 34,
   "metadata": {},
   "outputs": [],
   "source": [
    "#LESSON 3\n",
    "#WE CAN CHANGE VALUE OF INSTANCE IN THE METHOD VERY EASILY\n",
    "#AS EASILY AS DOING \"self.name='Abhishek'at the end of the method"
   ]
  },
  {
   "cell_type": "code",
   "execution_count": 2,
   "metadata": {},
   "outputs": [],
   "source": [
    "#FOR NEXT LESSON WE NEVER WANT TO ACCESS CLASS METHOD,NOT WE WANT TO ACCESS INSTANCE METHODS"
   ]
  },
  {
   "cell_type": "code",
   "execution_count": 9,
   "metadata": {},
   "outputs": [],
   "source": [
    "class Student4:\n",
    "   # def __init__(self,a_name):\n",
    "  #      self.name=a_name\n",
    "\n",
    "    @staticmethod\n",
    "    def print_name(name):\n",
    "        print(\"My name is\",name)\n",
    "\n"
   ]
  },
  {
   "cell_type": "code",
   "execution_count": 10,
   "metadata": {},
   "outputs": [],
   "source": [
    "Abhishek2=Student4()"
   ]
  },
  {
   "cell_type": "code",
   "execution_count": 11,
   "metadata": {},
   "outputs": [
    {
     "output_type": "stream",
     "name": "stdout",
     "text": [
      "My name is Harry\n"
     ]
    }
   ],
   "source": [
    "Abhishek2.print_name('Harry')"
   ]
  },
  {
   "cell_type": "code",
   "execution_count": null,
   "metadata": {},
   "outputs": [],
   "source": []
  }
 ]
}