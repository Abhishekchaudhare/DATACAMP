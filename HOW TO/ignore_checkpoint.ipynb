{
 "cells": [
  {
   "cell_type": "markdown",
   "metadata": {},
   "source": [
    "#Step 0 : Use command ls -a to see all the hidden files (.gitignore too)\n",
    "#Step 1 : Create a .gitignore file if not already present (touch .gitignore)\n",
    "#Step 2 : Add below code (nano .gitignore)\n",
    ".ipynb_checkpoints\n",
    "*/.ipynb_checkpoints/\n"
   ]
  }
 ],
 "metadata": {
  "kernelspec": {
   "display_name": "Python 3",
   "language": "python",
   "name": "python3"
  },
  "language_info": {
   "codemirror_mode": {
    "name": "ipython",
    "version": 3
   },
   "file_extension": ".py",
   "mimetype": "text/x-python",
   "name": "python",
   "nbconvert_exporter": "python",
   "pygments_lexer": "ipython3",
   "version": "3.7.0"
  }
 },
 "nbformat": 4,
 "nbformat_minor": 2
}
