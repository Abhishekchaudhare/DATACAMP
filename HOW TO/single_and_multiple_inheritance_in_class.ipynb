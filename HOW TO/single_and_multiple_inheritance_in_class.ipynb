{
 "metadata": {
  "language_info": {
   "codemirror_mode": {
    "name": "ipython",
    "version": 3
   },
   "file_extension": ".py",
   "mimetype": "text/x-python",
   "name": "python",
   "nbconvert_exporter": "python",
   "pygments_lexer": "ipython3",
   "version": "3.7.0"
  },
  "orig_nbformat": 2,
  "kernelspec": {
   "name": "python370jvsc74a57bd0184d473ad737d4fa87d376890b0d93035144fd2b273d2bfbd72515d922c22254",
   "display_name": "Python 3.7.0 64-bit ('base': conda)"
  }
 },
 "nbformat": 4,
 "nbformat_minor": 2,
 "cells": [
  {
   "cell_type": "code",
   "execution_count": 6,
   "metadata": {},
   "outputs": [],
   "source": [
    "class Human:\n",
    "    def __init__(self,a_name,a_age):\n",
    "        self.name=a_name\n",
    "        self.age=a_age\n",
    "\n",
    "    def print_data(self):\n",
    "        print(f'My name is {self.name} and my age is {self.age}')\n"
   ]
  },
  {
   "cell_type": "code",
   "execution_count": 39,
   "metadata": {},
   "outputs": [],
   "source": [
    "#LESSON1 : SINGLE INHERITANCE"
   ]
  },
  {
   "cell_type": "code",
   "execution_count": 7,
   "metadata": {},
   "outputs": [],
   "source": [
    "class Male(Human):\n",
    "    pass"
   ]
  },
  {
   "cell_type": "code",
   "execution_count": 9,
   "metadata": {},
   "outputs": [],
   "source": [
    "Abhishek=Male('Abhishek',25)"
   ]
  },
  {
   "cell_type": "code",
   "execution_count": 10,
   "metadata": {},
   "outputs": [
    {
     "output_type": "stream",
     "name": "stdout",
     "text": [
      "My name is Abhishek and my age is 25\n"
     ]
    }
   ],
   "source": [
    "Abhishek.print_data()"
   ]
  },
  {
   "cell_type": "code",
   "execution_count": 11,
   "metadata": {},
   "outputs": [],
   "source": [
    "#Let's take a case where Human and Male both has method of same name\n",
    "#Also Male2 has one argument in contructor where as Human2 has two\n",
    "#which once will execute??"
   ]
  },
  {
   "cell_type": "code",
   "execution_count": 33,
   "metadata": {},
   "outputs": [],
   "source": [
    "class Human2:\n",
    "    def __init__(self,a_age,a_name):\n",
    "        self.name=a_name\n",
    "        self.age=a_age\n",
    "\n",
    "    def print_data(self):\n",
    "        print(f\"My name is {self.name},my age is {self.age}\")\n",
    "\n",
    "    no_of_leaves=30\n"
   ]
  },
  {
   "cell_type": "code",
   "execution_count": 34,
   "metadata": {},
   "outputs": [],
   "source": [
    "class Male2(Human2):\n",
    "    def __init__(self,a_name):\n",
    "        self.name=a_name\n",
    "        \n",
    "    def print_data(self):\n",
    "        print(f\"My name again is {self.name}\")\n",
    "\n",
    "    no_of_leaves=30"
   ]
  },
  {
   "cell_type": "code",
   "execution_count": 36,
   "metadata": {},
   "outputs": [],
   "source": [
    "Abhishek=Male2(26)"
   ]
  },
  {
   "cell_type": "code",
   "execution_count": 30,
   "metadata": {},
   "outputs": [
    {
     "output_type": "stream",
     "name": "stdout",
     "text": [
      "My name again is 26\n"
     ]
    }
   ],
   "source": [
    "Abhishek.print_data()"
   ]
  },
  {
   "cell_type": "code",
   "execution_count": 38,
   "metadata": {},
   "outputs": [],
   "source": [
    "#LESSON2\n",
    "#contructor of 2nd class was taken\n",
    "#print_data id 2nd class was taken"
   ]
  },
  {
   "cell_type": "code",
   "execution_count": 42,
   "metadata": {},
   "outputs": [],
   "source": [
    "class Human3:\n",
    "    def __init__(self,a_age,a_name,a_gender):\n",
    "        self.age=a_age\n",
    "        self.name=a_name\n",
    "        self.gender=a_gender\n",
    " \n",
    "    def print_age(self):\n",
    "        print(f'My age is {self.age}')\n",
    "\n",
    "class being3:\n",
    "    def print_gender(self):\n",
    "        print(f'My gender is {self.gender}')\n",
    "\n",
    "\n",
    "class Male3(Human3,being3):\n",
    "    def print_name(self):\n",
    "        print(f'My age is {self.name}')\n",
    "\n"
   ]
  },
  {
   "cell_type": "code",
   "execution_count": 55,
   "metadata": {},
   "outputs": [],
   "source": [
    "Abhishek3=Male3(26,'Abhishek','Male')"
   ]
  },
  {
   "cell_type": "code",
   "execution_count": 47,
   "metadata": {},
   "outputs": [
    {
     "output_type": "stream",
     "name": "stdout",
     "text": [
      "My age is 26\n"
     ]
    }
   ],
   "source": [
    "Abhishek3.print_age()"
   ]
  },
  {
   "cell_type": "code",
   "execution_count": 48,
   "metadata": {},
   "outputs": [
    {
     "output_type": "stream",
     "name": "stdout",
     "text": [
      "My gender is Male\n"
     ]
    }
   ],
   "source": [
    "Abhishek3.print_gender()"
   ]
  },
  {
   "cell_type": "code",
   "execution_count": 50,
   "metadata": {},
   "outputs": [
    {
     "output_type": "stream",
     "name": "stdout",
     "text": [
      "My age is Abhishek\n"
     ]
    }
   ],
   "source": [
    "Abhishek3.print_name()"
   ]
  },
  {
   "cell_type": "code",
   "execution_count": 52,
   "metadata": {},
   "outputs": [],
   "source": [
    "#LESSON 3\n",
    "#MULTIPLE INHERITANCE\n",
    "#SEQUENCE IN WHICH CLASSES ARE PASSED ALSO MATTERS"
   ]
  },
  {
   "cell_type": "code",
   "execution_count": 57,
   "metadata": {},
   "outputs": [],
   "source": [
    "class Employee:\n",
    "    def __init__(self,name,age):\n",
    "        self.name=name\n",
    "        self.age=age\n",
    "\n",
    "    def print_info(self):\n",
    "        print(f\"My name is {self.name},{self.age}\")\n",
    "\n",
    "class Player:\n",
    "    def __init__(self,name):\n",
    "        self.name=name\n",
    "\n",
    "    def print_info(self):\n",
    "        print(f\"My name is {self.name}\")\n",
    "\n",
    "class Cool_Programmer(Employee,Player):\n",
    "    pass\n"
   ]
  },
  {
   "cell_type": "code",
   "execution_count": 59,
   "metadata": {},
   "outputs": [],
   "source": [
    "Abhishek=Cool_Programmer('Abhishek',26)"
   ]
  },
  {
   "cell_type": "code",
   "execution_count": 60,
   "metadata": {},
   "outputs": [
    {
     "output_type": "stream",
     "name": "stdout",
     "text": [
      "My name is Abhishek,26\n"
     ]
    }
   ],
   "source": [
    "Abhishek.print_info()"
   ]
  },
  {
   "cell_type": "code",
   "execution_count": 62,
   "metadata": {},
   "outputs": [],
   "source": [
    "#LESSON4\n",
    "#Employee is wwritten first, so taking contructor and Player of Employee"
   ]
  },
  {
   "cell_type": "code",
   "execution_count": 63,
   "metadata": {},
   "outputs": [],
   "source": [
    "class Employee2:\n",
    "    def __init__(self,name,age):\n",
    "        self.name=name\n",
    "        self.age=age\n",
    "\n",
    "    def print_info_2(self):\n",
    "        print(f\"My name is {self.name},{self.age}\")\n",
    "\n",
    "class Player2:\n",
    "    def __init__(self,name):\n",
    "        self.name=name\n",
    "\n",
    "    def print_info(self):\n",
    "        print(f\"My name is {self.name}\")\n",
    "\n",
    "class Cool_Programmer2(Player,Employee):\n",
    "    pass"
   ]
  },
  {
   "cell_type": "code",
   "execution_count": 65,
   "metadata": {},
   "outputs": [],
   "source": [
    "Abhishek2=Cool_Programmer2('Abhishek')"
   ]
  },
  {
   "cell_type": "code",
   "execution_count": 67,
   "metadata": {},
   "outputs": [
    {
     "output_type": "error",
     "ename": "AttributeError",
     "evalue": "'Cool_Programmer2' object has no attribute 'print_info_2'",
     "traceback": [
      "\u001b[1;31m---------------------------------------------------------------------------\u001b[0m",
      "\u001b[1;31mAttributeError\u001b[0m                            Traceback (most recent call last)",
      "\u001b[1;32m<ipython-input-67-14b182c6c716>\u001b[0m in \u001b[0;36m<module>\u001b[1;34m()\u001b[0m\n\u001b[1;32m----> 1\u001b[1;33m \u001b[0mAbhishek2\u001b[0m\u001b[1;33m.\u001b[0m\u001b[0mprint_info_2\u001b[0m\u001b[1;33m(\u001b[0m\u001b[1;33m)\u001b[0m\u001b[1;33m\u001b[0m\u001b[0m\n\u001b[0m",
      "\u001b[1;31mAttributeError\u001b[0m: 'Cool_Programmer2' object has no attribute 'print_info_2'"
     ]
    }
   ],
   "source": [
    "Abhishek2.print_info_2()"
   ]
  },
  {
   "cell_type": "code",
   "execution_count": null,
   "metadata": {},
   "outputs": [],
   "source": [
    "#LESSON5\n",
    "#here only one variable in contructor but 2 in def print_info_2\n"
   ]
  }
 ]
}